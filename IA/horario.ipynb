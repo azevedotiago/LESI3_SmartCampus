{
 "cells": [
  {
   "cell_type": "code",
   "execution_count": null,
   "metadata": {},
   "outputs": [],
   "source": []
  }
 ],
 "metadata": {
  "kernelspec": {
   "display_name": "Python 3.9.7 64-bit",
   "language": "python",
   "name": "python3"
  },
  "language_info": {
   "name": "python",
   "version": "3.9.7"
  },
  "orig_nbformat": 4,
  "vscode": {
   "interpreter": {
    "hash": "616a642356281f03b5935077f1cfa3375ad80719afb580e82c02860603ccaa85"
   }
  }
 },
 "nbformat": 4,
 "nbformat_minor": 2
}
