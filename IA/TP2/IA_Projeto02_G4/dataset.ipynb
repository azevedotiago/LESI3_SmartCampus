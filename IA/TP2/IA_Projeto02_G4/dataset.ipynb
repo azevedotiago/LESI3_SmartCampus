{
 "cells": [
  {
   "attachments": {},
   "cell_type": "markdown",
   "metadata": {},
   "source": [
    " # Grupo 4 ->Nuno Mendes (2727), Rosário Silva (21138), Tiago Azevedo (21153), Francisco Pereira (21156)"
   ]
  },
  {
   "attachments": {},
   "cell_type": "markdown",
   "metadata": {},
   "source": [
    "## Introdução"
   ]
  },
  {
   "attachments": {},
   "cell_type": "markdown",
   "metadata": {},
   "source": [
    "O objetivo deste projeto é implementar e analisar diferentes abordagens e métodos de Machine Learning (ML) para resolver um problema específico usando um conjunto de dados aberto/público. \n",
    "\n",
    "Podemos encontrar muitos conjuntos de dados públicos em https://www.kaggle.com/datasets.\n",
    "\n",
    "O dataset escolhido para este projeto foi \"Previsão de Clientes de Cartão de Crédito\" uma vez que é um bom exemplo para colocar em prática a matéria abordada na unidade curricular.\n",
    "\n",
    "O projeto deve usar um único conjunto de dados para regras de classificação, agrupamento e associação."
   ]
  },
  {
   "attachments": {},
   "cell_type": "markdown",
   "metadata": {},
   "source": [
    "## Link Git:"
   ]
  },
  {
   "attachments": {},
   "cell_type": "markdown",
   "metadata": {},
   "source": [
    "## Abordagem para um conjunto de dados para a Regra de Classificação:"
   ]
  },
  {
   "attachments": {},
   "cell_type": "markdown",
   "metadata": {},
   "source": [
    "- A Regra de Classificação visa a atribuição de classes/categorias:\n",
    "    - Atribui uma classe aos novos dados;\n",
    "    - O atributo de classe é discreto, ou seja, tem poucos valores distintos;\n",
    "    - O modelo é baseado nas relações existentes entre os vários atributos e o atributo de classe. "
   ]
  },
  {
   "cell_type": "code",
   "execution_count": null,
   "metadata": {},
   "outputs": [],
   "source": []
  },
  {
   "attachments": {},
   "cell_type": "markdown",
   "metadata": {},
   "source": [
    "## Abordagem para um conjunto de dados para a Regra de Agrupamento:"
   ]
  },
  {
   "attachments": {},
   "cell_type": "markdown",
   "metadata": {},
   "source": [
    "- A Regra de Agrupamento pretende agrupar objetos semelhantes de acordo com as semelhanças encontradas entre os seus atributos:\n",
    "    - É usado como uma funcionalidade primária de mineração de dados, tal como, para organizar clientes em segmentos;\n",
    "    - Também pode ser usado como uma técnica de pré-processamento para outros algoritmos, por exemplo, discretizar atributos contínuos na indução de árvores de classificação."
   ]
  },
  {
   "cell_type": "code",
   "execution_count": null,
   "metadata": {},
   "outputs": [],
   "source": []
  },
  {
   "attachments": {},
   "cell_type": "markdown",
   "metadata": {},
   "source": [
    "## Abordagem para um conjunto de dados para a Regra de Associação:"
   ]
  },
  {
   "attachments": {},
   "cell_type": "markdown",
   "metadata": {},
   "source": [
    "- A Regra de Associação tem como objetivo básico:\n",
    "    - Encontrar elementos que implicam na presença de outros elementos em uma mesma transação, ou seja, encontrar relacionamentos ou padrões frequentes entre conjuntos de dados. \n",
    "    - O termo de transição indica quais itens foram consultados em uma determinada operação de consulta. "
   ]
  },
  {
   "cell_type": "code",
   "execution_count": null,
   "metadata": {},
   "outputs": [],
   "source": []
  }
 ],
 "metadata": {
  "kernelspec": {
   "display_name": "Python 3",
   "language": "python",
   "name": "python3"
  },
  "language_info": {
   "name": "python",
   "version": "3.10.8 (tags/v3.10.8:aaaf517, Oct 11 2022, 16:50:30) [MSC v.1933 64 bit (AMD64)]"
  },
  "orig_nbformat": 4,
  "vscode": {
   "interpreter": {
    "hash": "11bc3faa42291987dff8047a7fe728de8bffd01e5e426b1fc111590146fa91bf"
   }
  }
 },
 "nbformat": 4,
 "nbformat_minor": 2
}
