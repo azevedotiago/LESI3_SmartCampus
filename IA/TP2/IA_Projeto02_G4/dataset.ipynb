{
 "cells": [
  {
   "cell_type": "code",
   "execution_count": null,
   "metadata": {},
   "outputs": [],
   "source": []
  }
 ],
 "metadata": {
  "kernelspec": {
   "display_name": "Python 3.10.8 64-bit",
   "language": "python",
   "name": "python3"
  },
  "language_info": {
   "name": "python",
   "version": "3.10.8"
  },
  "orig_nbformat": 4,
  "vscode": {
   "interpreter": {
    "hash": "11bc3faa42291987dff8047a7fe728de8bffd01e5e426b1fc111590146fa91bf"
   }
  }
 },
 "nbformat": 4,
 "nbformat_minor": 2
}
