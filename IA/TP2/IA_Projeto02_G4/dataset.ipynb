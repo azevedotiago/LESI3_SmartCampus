{
 "cells": [
  {
   "attachments": {},
   "cell_type": "markdown",
   "metadata": {},
   "source": [
    " # Grupo 4 ->Nuno Mendes (2727), Rosário Silva (21138), Tiago Azevedo (21153), Francisco Pereira (21156)"
   ]
  },
  {
   "attachments": {},
   "cell_type": "markdown",
   "metadata": {},
   "source": [
    "## Introdução"
   ]
  },
  {
   "attachments": {},
   "cell_type": "markdown",
   "metadata": {},
   "source": [
    "Este documento apresenta o objetivo e os requisitos para o desenvolvimento do projeto 02. \n",
    "\n",
    "O objetivo deste projeto é implementar e analisar diferentes abordagens e métodos de Machine Learning (ML) para resolver um problema específico usando um conjunto de dados aberto/público. \n",
    "\n",
    "Você pode encontrar muitos conjuntos de dados públicos em https://www.kaggle.com/datasets.\n",
    "\n",
    "O projeto deve usar um único conjunto de dados para regras de classificação, agrupamento e associação.\n",
    "\n",
    "No entanto, se a equipa achar que não pode obter nenhum resultado interessante para as regras de associação, um conjunto de dados separado pode ser usado apenas para essa tarefa.\n"
   ]
  },
  {
   "attachments": {},
   "cell_type": "markdown",
   "metadata": {},
   "source": [
    "## Link Git:"
   ]
  },
  {
   "attachments": {},
   "cell_type": "markdown",
   "metadata": {},
   "source": [
    "## Abordagem para um conjunto de dados para a Regra de Classificação:"
   ]
  },
  {
   "cell_type": "code",
   "execution_count": null,
   "metadata": {},
   "outputs": [],
   "source": []
  },
  {
   "attachments": {},
   "cell_type": "markdown",
   "metadata": {},
   "source": [
    "## Abordagem para um conjunto de dados para a Regra de Agrupamento:"
   ]
  },
  {
   "cell_type": "code",
   "execution_count": null,
   "metadata": {},
   "outputs": [],
   "source": []
  },
  {
   "attachments": {},
   "cell_type": "markdown",
   "metadata": {},
   "source": [
    "## Abordagem para um conjunto de dados para a Regra de Associação:"
   ]
  },
  {
   "cell_type": "code",
   "execution_count": null,
   "metadata": {},
   "outputs": [],
   "source": []
  }
 ],
 "metadata": {
  "kernelspec": {
   "display_name": "Python 3.10.8 64-bit",
   "language": "python",
   "name": "python3"
  },
  "language_info": {
   "name": "python",
   "version": "3.10.8"
  },
  "orig_nbformat": 4,
  "vscode": {
   "interpreter": {
    "hash": "11bc3faa42291987dff8047a7fe728de8bffd01e5e426b1fc111590146fa91bf"
   }
  }
 },
 "nbformat": 4,
 "nbformat_minor": 2
}
