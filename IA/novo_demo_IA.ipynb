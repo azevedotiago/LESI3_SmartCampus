{
 "cells": [
  {
   "cell_type": "markdown",
   "metadata": {},
   "source": [
    "# CONSTRAINT SATISFACTION PROBLEMS (CSP)\n",
    "\n",
    "This IPy notebook uses of the implementations in **csp.py** module provided in the supporting materials of the book* Artificial Intelligence: A Modern Approach*."
   ]
  },
  {
   "cell_type": "code",
   "execution_count": null,
   "metadata": {},
   "outputs": [],
   "source": [
    "from csp import *\n",
    "# from notebook import psource, plot_NQueens\n",
    "\n",
    "# %matplotlib inline\n",
    "# Hide warnings in the matplotlib sections\n",
    "\n",
    "import math\n",
    "import warnings\n",
    "warnings.filterwarnings(\"ignore\")"
   ]
  },
  {
   "cell_type": "markdown",
   "metadata": {},
   "source": [
    "## Zebra puzzle\n",
    "Solves an instance of the \"zebra puzzle\".<br>\n",
    "You have to try several times until you get a solution.\n",
    "\n",
    "`Exercise:` Change the **min_conflicts** solve_zebra to get allways a solution. "
   ]
  },
  {
   "cell_type": "code",
   "execution_count": null,
   "metadata": {},
   "outputs": [],
   "source": [
    "# Solve Zebra using min_conflicts\n",
    "# Please, run several trials until you do not get an error\n",
    "\n",
    "solve_zebra(algorithm=min_conflicts, max_steps=10000)"
   ]
  },
  {
   "cell_type": "code",
   "execution_count": null,
   "metadata": {},
   "outputs": [],
   "source": [
    "# Solve Zebra using backtracking search\n",
    "\n",
    "solve_zebra(algorithm=backtracking_search, \n",
    "            select_unassigned_variable=mrv, order_domain_values=lcv, inference=forward_checking)"
   ]
  },
  {
   "cell_type": "code",
   "execution_count": null,
   "metadata": {},
   "outputs": [],
   "source": [
    "# Solve Zebra using ac_sover\n",
    "\n",
    "# variables\n",
    "Colors = 'Red Yellow Blue Green Ivory'.split()\n",
    "Pets = 'Dog Fox Snails Horse Zebra'.split()\n",
    "Drinks = 'OJ Tea Coffee Milk Water'.split()\n",
    "Countries = 'Englishman Spaniard Norwegian Ukranian Japanese'.split()\n",
    "Smokes = 'Kools Chesterfields Winston LuckyStrike Parliaments'.split()\n",
    "variables = set (Colors + Pets + Drinks + Countries + Smokes)\n",
    "\n",
    "# Domains\n",
    "dominio = {}\n",
    "for var in variables:\n",
    "    dominio[var] = set(range(1, 6))     # list(range(1, 6))\n",
    "dominio['Norwegian'] = {1}\n",
    "dominio['Milk'] = {3}\n",
    "\n",
    "# Constraints\n",
    "restricoes = [\n",
    "              Constraint(Colors, all_diff_constraint),\n",
    "              Constraint(Pets, all_diff_constraint),\n",
    "              Constraint(Drinks, all_diff_constraint),\n",
    "              Constraint(Countries, all_diff_constraint),\n",
    "              Constraint(Smokes, all_diff_constraint),\n",
    "              Constraint(('Englishman', 'Red'), eq),\n",
    "              Constraint(('Spaniard', 'Dog'), eq),\n",
    "              Constraint(('Kools', 'Yellow'), eq),\n",
    "              Constraint(('Winston', 'Snails'), eq),\n",
    "              Constraint(('LuckyStrike', 'OJ'), eq),\n",
    "              Constraint(('Ukranian', 'Tea'), eq),\n",
    "              Constraint(('Japanese', 'Parliaments'), eq),\n",
    "              Constraint(('Coffee', 'Green'), eq),\n",
    "              Constraint(('Chesterfields', 'Fox'), lambda a, b: abs(a - b) == 1),\n",
    "              Constraint(('Norwegian', 'Blue'), lambda a, b: abs(a - b) == 1),\n",
    "              Constraint(('Kools', 'Horse'), lambda a, b: abs(a - b) == 1),\n",
    "              Constraint(('Green', 'Ivory'), lambda a, b: b == a - 1),\n",
    "              ]\n",
    "\n",
    "# days_too_short\n",
    "zebra_csp = NaryCSP(dominio, restricoes)\n",
    "print(zebra_csp.variables)\n",
    "\n",
    "# Apply solver\n",
    "ans = ac_solver(zebra_csp, arc_heuristic=sat_up)\n",
    "\n",
    "# Print result\n",
    "for h in range(1, 6):\n",
    "        print('House', h, end=' ')\n",
    "        for (var, val) in ans.items():\n",
    "            if val == h:\n",
    "                print(var, end=' ')\n",
    "        print()"
   ]
  },
  {
   "cell_type": "markdown",
   "metadata": {},
   "source": [
    "## cryptarithmetic problem\n",
    "\n",
    "Each letter stands for a distinct digit; the aim is to find a substitution of digits for letters such that the resulting sum is arithmetically correct, with the added restriction that no leading zeroes are allowed.\n",
    "\n",
    "**Puzzle D A Y S + T O O = S H O R T**"
   ]
  },
  {
   "cell_type": "code",
   "execution_count": null,
   "metadata": {},
   "outputs": [],
   "source": [
    "# DAYS + TOO = SHORT \n",
    "# Solve the CSP using NARY_CSP + AC_Sover\n",
    "\n",
    "# domain\n",
    "dominio = {\n",
    "          'D': set(range(1, 10)), 'A': set(range(0, 10)), 'Y': set(range(0, 10)), 'S': set(range(1, 10)),\n",
    "          'T': set(range(1, 10)), 'O': set(range(0, 10)), 'H': set(range(0, 10)), 'R': set(range(0, 10)),\n",
    "          'C1': set(range(0, 2)), 'C2': set(range(0, 2)), 'C3': set(range(0, 2)), 'C4': set(range(0, 2))\n",
    "          }\n",
    "\n",
    "# constraints\n",
    "restricoes = [\n",
    "              Constraint(('D', 'A', 'Y', 'S', 'T', 'O', 'H', 'R'), all_diff_constraint),\n",
    "              Constraint(('S', 'O', 'T', 'C1'), lambda s, o, t, c1: s + o == t + 10 * c1),\n",
    "              Constraint(('Y', 'O', 'R', 'C1', 'C2'), lambda y, o, r, c1, c2: c1 + y + o == r + 10 * c2),\n",
    "              Constraint(('A', 'T', 'O', 'C2', 'C3'), lambda a, t, o, c2, c3: c2 + a + t == o + 10 * c3),\n",
    "              Constraint(('D', 'H', 'C3', 'C4'), lambda d, h, c3, c4: c3 + d == h + 10 * c4),\n",
    "              Constraint(('S', 'C4'), eq)\n",
    "              ]\n",
    "\n",
    "# days_too_short\n",
    "days_too_short = NaryCSP(dominio, restricoes)\n",
    "\n",
    "# print(days_too_short.variables)\n",
    "# print(days_too_short.domains)\n",
    "\n",
    "# Result\n",
    "ac_solver(days_too_short, arc_heuristic=sat_up)"
   ]
  },
  {
   "cell_type": "code",
   "execution_count": null,
   "metadata": {},
   "outputs": [],
   "source": [
    "# D A Y S + TOO = SHORT \n",
    "# Solve the CSP using backtracking (depth-first search)\n",
    "\n",
    "# CSP Definition\n",
    "def days_too_short():\n",
    "    Vars = 'A D H O R S T Y'.split()\n",
    "    Conds = 'C1 C2 C3 C4'.split()\n",
    "    variables = Vars + Conds\n",
    "    #\n",
    "    domains = {}\n",
    "    for var in Vars:\n",
    "        domains[var] = list(range(0, 10))\n",
    "    for var in Conds:\n",
    "        domains[var] = list(range(0, 2))  \n",
    "    domains['D'] = domains['T'] = list(range(1, 10))\n",
    "    domains['S'] = [1]\n",
    "    #\n",
    "    neighbors = parse_neighbors(\"\"\"A: D Y S T O H R; D: Y S T O H R; Y: S T O H R;\n",
    "                                S: T O H R; T: O H R; O: H R; H: R; S: C4\"\"\")\n",
    "\n",
    "    # Not complete: Need to add the neighbors corresponding to the n_ary constraints\n",
    "    # \"\"\"C1: S O T Y R; C2: C1 O R Y; C3: C2 A O T; C4: C3 D H\"\"\")\n",
    "\n",
    "    print(domains)\n",
    "    print(neighbors)\n",
    "\n",
    "    def dts_constraint(A, a, B, b, recurse=0):\n",
    "        same = (a == b)\n",
    "        if A == 'S' and B == 'C4':\n",
    "            return same\n",
    "        if recurse == 0:\n",
    "            return dts_constraint(B, b, A, a, 1)\n",
    "        if A in Vars and B in Vars:\n",
    "            return not same\n",
    "\n",
    "        raise Exception('error')\n",
    "\n",
    "    return CSP(variables, domains, neighbors, dts_constraint)\n",
    "\n",
    "# Call solver\n",
    "dts = days_too_short()\n",
    "backtracking_search(dts, select_unassigned_variable=mrv, order_domain_values=lcv, inference=forward_checking)"
   ]
  }
 ],
 "metadata": {
  "kernelspec": {
   "display_name": "Python 3.10.8 64-bit",
   "language": "python",
   "name": "python3"
  },
  "language_info": {
   "codemirror_mode": {
    "name": "ipython",
    "version": 3
   },
   "file_extension": ".py",
   "mimetype": "text/x-python",
   "name": "python",
   "nbconvert_exporter": "python",
   "pygments_lexer": "ipython3",
   "version": "3.10.8"
  },
  "pycharm": {
   "stem_cell": {
    "cell_type": "raw",
    "metadata": {
     "collapsed": false
    },
    "source": []
   }
  },
  "vscode": {
   "interpreter": {
    "hash": "11bc3faa42291987dff8047a7fe728de8bffd01e5e426b1fc111590146fa91bf"
   }
  }
 },
 "nbformat": 4,
 "nbformat_minor": 1
}
