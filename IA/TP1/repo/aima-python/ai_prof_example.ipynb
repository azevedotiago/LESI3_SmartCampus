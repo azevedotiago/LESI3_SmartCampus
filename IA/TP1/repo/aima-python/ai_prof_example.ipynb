{
  "cells": [
    {
      "cell_type": "markdown",
      "metadata": {},
      "source": [
        "# CONSTRAINT SATISFACTION PROBLEMS (CSP)\n",
        "\n",
        "This IPy notebook uses of the implementations in **csp.py** module provided in the supporting materials of the book* Artificial Intelligence: A Modern Approach*."
      ]
    },
    {
      "cell_type": "code",
      "execution_count": 1,
      "metadata": {},
      "outputs": [],
      "source": [
        "\n",
        "from csp import *\n",
        "# from notebook import psource, plot_NQueens\n",
        "\n",
        "# %matplotlib inline\n",
        "# Hide warnings in the matplotlib sections\n",
        "\n",
        "import math\n",
        "import warnings\n",
        "warnings.filterwarnings(\"ignore\")"
      ]
    },
    {
      "cell_type": "markdown",
      "metadata": {},
      "source": [
        "## Zebra puzzle\n",
        "Solves an instance of the \"zebra puzzle\".<br>\n",
        "You have to try several times until you get a solution.\n",
        "\n",
        "`Exercise:` Please change the original solve_zebra to get allways a solution. "
      ]
    },
    {
      "cell_type": "code",
      "execution_count": 2,
      "metadata": {},
      "outputs": [
        {
          "name": "stdout",
          "output_type": "stream",
          "text": [
            "House 1 Yellow Fox Water Norwegian Kools \n",
            "House 2 Blue Horse Tea Ukranian Chesterfields \n",
            "House 3 Red Snails Milk Englishman Winston \n",
            "House 4 Ivory Dog OJ Spaniard LuckyStrike \n",
            "House 5 Green Zebra Coffee Japanese Parliaments \n"
          ]
        },
        {
          "data": {
            "text/plain": [
              "(5,\n",
              " 1,\n",
              " 261190,\n",
              " {'Red': 3,\n",
              "  'Yellow': 1,\n",
              "  'Blue': 2,\n",
              "  'Green': 5,\n",
              "  'Ivory': 4,\n",
              "  'Dog': 4,\n",
              "  'Fox': 1,\n",
              "  'Snails': 3,\n",
              "  'Horse': 2,\n",
              "  'Zebra': 5,\n",
              "  'OJ': 4,\n",
              "  'Tea': 2,\n",
              "  'Coffee': 5,\n",
              "  'Milk': 3,\n",
              "  'Water': 1,\n",
              "  'Englishman': 3,\n",
              "  'Spaniard': 4,\n",
              "  'Norwegian': 1,\n",
              "  'Ukranian': 2,\n",
              "  'Japanese': 5,\n",
              "  'Kools': 1,\n",
              "  'Chesterfields': 2,\n",
              "  'Winston': 3,\n",
              "  'LuckyStrike': 4,\n",
              "  'Parliaments': 5})"
            ]
          },
          "execution_count": 2,
          "metadata": {},
          "output_type": "execute_result"
        }
      ],
      "source": [
        "# Please run several trials\n",
        "\n",
        "solve_zebra(algorithm=min_conflicts, max_steps=10000)"
      ]
    },
    {
      "cell_type": "markdown",
      "metadata": {},
      "source": [
        "## cryptarithmetic problem\n",
        "\n",
        "Each letter stands for a distinct digit; the aim is to find a substitution of digits for letters such that the resulting sum is arithmetically correct, with the added restriction that no leading zeroes are allowed.\n",
        "\n",
        "**Puzzle D A Y S + T O O = S H O R T**"
      ]
    },
    {
      "cell_type": "code",
      "execution_count": 8,
      "metadata": {},
      "outputs": [
        {
          "name": "stdout",
          "output_type": "stream",
          "text": [
            "{'C4', 'A', 'O', 'C2', 'C3', 'D', 'R', 'T', 'S', 'C1', 'H', 'Y'}\n"
          ]
        },
        {
          "data": {
            "text/plain": [
              "{'D': 9,\n",
              " 'A': 8,\n",
              " 'Y': 7,\n",
              " 'S': 1,\n",
              " 'T': 6,\n",
              " 'O': 5,\n",
              " 'H': 0,\n",
              " 'R': 2,\n",
              " 'C1': 0,\n",
              " 'C2': 1,\n",
              " 'C3': 1,\n",
              " 'C4': 1}"
            ]
          },
          "execution_count": 8,
          "metadata": {},
          "output_type": "execute_result"
        }
      ],
      "source": [
        "# DAYS + TOO = SHORT \n",
        "\n",
        "# domain\n",
        "dominio = {\n",
        "          'D': set(range(1, 10)), 'A': set(range(0, 10)), 'Y': set(range(0, 10)), 'S': set(range(1, 10)),\n",
        "          'T': set(range(1, 10)), 'O': set(range(0, 10)), 'H': set(range(0, 10)), 'R': set(range(0, 10)),\n",
        "          'C1': set(range(0, 2)), 'C2': set(range(0, 2)), 'C3': set(range(0, 2)), 'C4': set(range(0, 2))\n",
        "          }\n",
        "\n",
        "# constraints\n",
        "restricoes = [\n",
        "              Constraint(('D', 'A', 'Y', 'S', 'T', 'O', 'H', 'R'), all_diff_constraint),\n",
        "              Constraint(('S', 'O', 'T', 'C1'), lambda s, o, t, c1: s + o == t + 10 * c1),\n",
        "              Constraint(('Y', 'O', 'R', 'C1', 'C2'), lambda y, o, r, c1, c2: c1 + y + o == r + 10 * c2),\n",
        "              Constraint(('A', 'T', 'O', 'C2', 'C3'), lambda a, t, o, c2, c3: c2 + a + t == o + 10 * c3),\n",
        "              Constraint(('D', 'H', 'C3', 'C4'), lambda d, h, c3, c4: c3 + d == h + 10 * c4),\n",
        "              Constraint(('S', 'C4'), eq)\n",
        "              ]\n",
        "\n",
        "# days_too_short\n",
        "days_too_short = NaryCSP(dominio, restricoes)\n",
        "print(days_too_short.variables)\n",
        "\n",
        "# Result\n",
        "ac_solver(days_too_short, arc_heuristic=sat_up)"
      ]
    },
    {
      "cell_type": "markdown",
      "metadata": {},
      "source": [
        "## Schedules making problem\n",
        "We need to prepare the classes schedules for the next semester, taking into account the following information:\n",
        "* the list of classes;\n",
        "* the list of courses that are in the program of each class;\n",
        "* the professors that are assigned to each course\n",
        "* the available time slots to assign to the classes\n",
        "* the classrooms to assign to the classes\n",
        "\n",
        "General constraints are applied:\n",
        "* Only one course can be assigned For each class/time slot\n",
        "* Only one classroom can be assigned For each class/time slot\n",
        "* Each professor can not teach more than one lesson in each time slot and no more than 3 lessons in the same day\n",
        "* Each course has two lessons per week\n",
        " \n",
        "This demo takes into account 3 classes:\n",
        "* Classes and courses:\n",
        "* TimeSlots:\n",
        "* Professors: \n",
        "* Classrooms: \n",
        "\n",
        "New functions created for this CSP:\n",
        "* atmost_three  - returns TRUE if there is no more than 3 lessons in the same day;\n",
        "* ...\n"
      ]
    },
    {
      "cell_type": "code",
      "execution_count": null,
      "metadata": {},
      "outputs": [],
      "source": [
        "# CLASS SCHEDULING\n",
        "\n",
        "# Schedules\n",
        "\n",
        "\n",
        "# domain\n",
        "dominio =  {\n",
        "            \n",
        "            }\n",
        "\n",
        "# constraints\n",
        "restricoes =   [\n",
        "                # Classes\n",
        "\n",
        "                # Profs\n",
        "\n",
        "                ]\n",
        "\n",
        "# Class scheduling -- Exec 40s\n",
        "class_scheduling = NaryCSP(dominio, restricoes)\n",
        "\n",
        "# print variables\n",
        "print(class_scheduling.variables)\n",
        "\n",
        "# Result\n",
        "ac_solver(class_scheduling, arc_heuristic=sat_up)"
      ]
    },
    {
      "cell_type": "markdown",
      "metadata": {},
      "source": [
        "## \"Get a ride to Campus\" Problem\n",
        "How to assign passengers to vehicles from home/work to Campus and from Campus to home, minimizing the number of required trips.\n",
        "* Each vehicle owner can give a ride of 1 to 4 passengers;\n",
        "* The vehicle owners and passengers should be assigned to one single location;\n",
        "* Passengers from distinct locations in the same path to the Campus can be assigned to the same trip;\n",
        "* Each passenger has a schedule that defines the latest hour (min) to be on Campus and earliest hour (max) to leave the Campus;\n",
        "* If we consider the tree of paths from the Campus to the locations, each main branch can be treated independently.\n",
        "\n",
        "In the case of IPCA, we could consider:\n",
        "* Locations: Amr, Braga, Gmr, Joane, PL, Prado, PV, Trofa, VC, VdC, VNF, IPCA\n",
        "* Paths: AMR-Prado-IPCA, VV-Prado-IPCA, AMR-Braga-IPCA, PL-Braga-IPCA, Gmr-Braga-IPCA, Joane-VNF-IPCA, Trofa-VNF-IPCA, VC-PV-IPCA\n",
        "* Schedules, trip to Campus: 9h, 11h, 14h\n",
        "* Schedules, trip from Campus: 13h, 16h, 18h\n",
        "\n",
        "This demo takes into account a single branch and the trips to IPCA:\n",
        "* ...\n",
        "\n",
        "New functions created for this CSP:\n",
        "* atmost_five  - returns TRUE if each vehicle is assigned to 5 or less passengers, including the driver;\n",
        "* ..."
      ]
    },
    {
      "cell_type": "code",
      "execution_count": null,
      "metadata": {},
      "outputs": [],
      "source": [
        "# GET A RIDE TO AND FROM CAMPUS\n",
        "\n",
        "# Context variables used in the implementation:\n",
        "\n",
        "# Path: ??\n",
        "\n",
        "# Schedules\n",
        "\n",
        "# Minimum number of vehicles\n",
        "\n",
        "# domain definition\n",
        "dominio =  {\n",
        "\n",
        "            }\n",
        "\n",
        "# constraints definition\n",
        "restricoes =   [\n",
        "\n",
        "                ]\n",
        "\n",
        "# Get_ride\n",
        "get_ride = NaryCSP( dominio, restricoes)\n",
        "\n",
        "# print variables\n",
        "print(get_ride.variables)\n",
        "\n",
        "# Result\n",
        "ac_solver(get_ride, arc_heuristic=sat_up)"
      ]
    }
  ],
  "metadata": {
    "kernelspec": {
      "display_name": "Python 3.7.6rc1 ('env': venv)",
      "language": "python",
      "name": "python3"
    },
    "language_info": {
      "codemirror_mode": {
        "name": "ipython",
        "version": 3
      },
      "file_extension": ".py",
      "mimetype": "text/x-python",
      "name": "python",
      "nbconvert_exporter": "python",
      "pygments_lexer": "ipython3",
      "version": "3.7.6"
    },
    "pycharm": {
      "stem_cell": {
        "cell_type": "raw",
        "metadata": {
          "collapsed": false
        },
        "source": []
      }
    },
    "vscode": {
      "interpreter": {
        "hash": "8e4a87e1ab19e31313ee415886dc55f190851c68d3abb2cb098c8b022dcf6d3d"
      }
    }
  },
  "nbformat": 4,
  "nbformat_minor": 1
}
